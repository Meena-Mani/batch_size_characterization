{
  "nbformat": 4,
  "nbformat_minor": 0,
  "metadata": {
    "colab": {
      "name": "aerial_cactus_identification",
      "version": "0.3.2",
      "provenance": [],
      "collapsed_sections": [],
      "include_colab_link": true
    },
    "kernelspec": {
      "name": "python3",
      "display_name": "Python 3"
    },
    "accelerator": "GPU"
  },
  "cells": [
    {
      "cell_type": "markdown",
      "metadata": {
        "id": "view-in-github",
        "colab_type": "text"
      },
      "source": [
        "<a href=\"https://colab.research.google.com/github/Meena-Mani/batch_size_characterization/blob/master/aerial_cactus_identification.ipynb\" target=\"_parent\"><img src=\"https://colab.research.google.com/assets/colab-badge.svg\" alt=\"Open In Colab\"/></a>"
      ]
    },
    {
      "metadata": {
        "id": "HNCTmEmUJQmm",
        "colab_type": "text"
      },
      "cell_type": "markdown",
      "source": [
        "# Aerial Cactus Identification\n",
        "\n",
        "**Tags: MobileNetV2, transfer learning, mini-batch size, aerial image classification**\n",
        "\n",
        "Date created: Mar 25, 2019   \n",
        "Last modified: April 25, 2019 \n"
      ]
    },
    {
      "metadata": {
        "id": "SzV0Ttu8Jic5",
        "colab_type": "text"
      },
      "cell_type": "markdown",
      "source": [
        "The [Aerial Cactus Identification Challenge ](https://www.kaggle.com/c/aerial-cactus-identification) on Kaggle is a binary classification task to identify columnar cacti in aerial images.\n",
        "\n",
        "We use a transfer learning framework with a  MobileNetV2  network <a href=\"#ref1\">[1]</a> pretrained on ImageNet to train the classification model. We chose MobileNetV2  because it is a state-of-the art mobile-oriented model and is very effective as a feature extractor for image classifcation, object detection and segmentation. MobileNetV1  introduced depthwise separable convolutions. MobileNetV2, in addition to this, utilizes two new features: (i) linear bottlenecks between the layers, and  (ii) shortcut connections between the bottlenecks. These additions make MobileNetV2 significantly faster and more accurate <a href=\"#ref2\">[2]</a>.\n",
        "\n",
        "We use this classification setup for  a second task: to characterize the training and validation accuracy for batch sizes in the 16 - 128 regime. For each batch size, we perform three trial runs and the average of these runs is plotted to observe trends. The data is available in [this](https://github.com/Meena-Mani/batch_size_characterization/blob/master/batch_size_characterization.ipynb) colab notebook. Since there is an interplay between learning rate and batch size, we keep the learning rate constant."
      ]
    },
    {
      "metadata": {
        "id": "mpzcfx7NJzlJ",
        "colab_type": "text"
      },
      "cell_type": "markdown",
      "source": [
        "## I. Setup for Kaggle Data"
      ]
    },
    {
      "metadata": {
        "id": "wCntwjKegnzz",
        "colab_type": "code",
        "outputId": "67765ae9-4b59-46f9-8834-ce5821b982da",
        "colab": {
          "base_uri": "https://localhost:8080/",
          "height": 208
        }
      },
      "cell_type": "code",
      "source": [
        "!pip install kaggle\n"
      ],
      "execution_count": 0,
      "outputs": [
        {
          "output_type": "stream",
          "text": [
            "Requirement already satisfied: kaggle in /usr/local/lib/python3.6/dist-packages (1.5.3)\n",
            "Requirement already satisfied: urllib3<1.25,>=1.21.1 in /usr/local/lib/python3.6/dist-packages (from kaggle) (1.24.2)\n",
            "Requirement already satisfied: six>=1.10 in /usr/local/lib/python3.6/dist-packages (from kaggle) (1.12.0)\n",
            "Requirement already satisfied: certifi in /usr/local/lib/python3.6/dist-packages (from kaggle) (2019.3.9)\n",
            "Requirement already satisfied: python-dateutil in /usr/local/lib/python3.6/dist-packages (from kaggle) (2.5.3)\n",
            "Requirement already satisfied: requests in /usr/local/lib/python3.6/dist-packages (from kaggle) (2.21.0)\n",
            "Requirement already satisfied: tqdm in /usr/local/lib/python3.6/dist-packages (from kaggle) (4.28.1)\n",
            "Requirement already satisfied: python-slugify in /usr/local/lib/python3.6/dist-packages (from kaggle) (3.0.2)\n",
            "Requirement already satisfied: idna<2.9,>=2.5 in /usr/local/lib/python3.6/dist-packages (from requests->kaggle) (2.8)\n",
            "Requirement already satisfied: chardet<3.1.0,>=3.0.2 in /usr/local/lib/python3.6/dist-packages (from requests->kaggle) (3.0.4)\n",
            "Requirement already satisfied: text-unidecode==1.2 in /usr/local/lib/python3.6/dist-packages (from python-slugify->kaggle) (1.2)\n"
          ],
          "name": "stdout"
        }
      ]
    },
    {
      "metadata": {
        "id": "EgLKANjXhLA6",
        "colab_type": "code",
        "outputId": "5d12c30c-cc40-4826-de2f-439c37939ce3",
        "colab": {
          "base_uri": "https://localhost:8080/",
          "height": 34
        }
      },
      "cell_type": "code",
      "source": [
        "!ls -a "
      ],
      "execution_count": 0,
      "outputs": [
        {
          "output_type": "stream",
          "text": [
            ".  ..  .config\tsample_data\n"
          ],
          "name": "stdout"
        }
      ]
    },
    {
      "metadata": {
        "id": "BVIpfdWxhjXg",
        "colab_type": "code",
        "colab": {}
      },
      "cell_type": "code",
      "source": [
        "!mkdir .kaggle"
      ],
      "execution_count": 0,
      "outputs": []
    },
    {
      "metadata": {
        "id": "-lctM6MrhqBV",
        "colab_type": "code",
        "colab": {}
      },
      "cell_type": "code",
      "source": [
        "# Get USERNAME and KEY from the kaggle.json file you download\n",
        "import json\n",
        "token = {\"username\":\"USERNAME\",\"key\":\"KEY\"}"
      ],
      "execution_count": 0,
      "outputs": []
    },
    {
      "metadata": {
        "id": "5JDblaQuh70y",
        "colab_type": "code",
        "colab": {}
      },
      "cell_type": "code",
      "source": [
        "with open('/content/.kaggle/kaggle.json', 'w') as file:\n",
        "   json.dump(token, file)"
      ],
      "execution_count": 0,
      "outputs": []
    },
    {
      "metadata": {
        "id": "tHAndeghiWou",
        "colab_type": "code",
        "colab": {}
      },
      "cell_type": "code",
      "source": [
        "!chmod 600 /content/.kaggle/kaggle.json"
      ],
      "execution_count": 0,
      "outputs": []
    },
    {
      "metadata": {
        "id": "XTt-XppwjEhL",
        "colab_type": "code",
        "colab": {}
      },
      "cell_type": "code",
      "source": [
        "# if there is a permissions issue, run next step, then re-run this step\n",
        "!cp /content/.kaggle/kaggle.json ~/.kaggle/kaggle.json"
      ],
      "execution_count": 0,
      "outputs": []
    },
    {
      "metadata": {
        "id": "207FMocujdtC",
        "colab_type": "code",
        "outputId": "517c64ae-77ce-4f51-998c-b4c17e19c549",
        "colab": {
          "base_uri": "https://localhost:8080/",
          "height": 34
        }
      },
      "cell_type": "code",
      "source": [
        "!kaggle config set -n path -v{/content}"
      ],
      "execution_count": 0,
      "outputs": [
        {
          "output_type": "stream",
          "text": [
            "- path is now set to: {/content}\n"
          ],
          "name": "stdout"
        }
      ]
    },
    {
      "metadata": {
        "id": "wxFVYPl9jliq",
        "colab_type": "code",
        "outputId": "2cfff37e-d6bb-4b18-e905-735bc5364e75",
        "colab": {
          "base_uri": "https://localhost:8080/",
          "height": 225
        }
      },
      "cell_type": "code",
      "source": [
        "!kaggle competitions download -c aerial-cactus-identification -p /content"
      ],
      "execution_count": 0,
      "outputs": [
        {
          "output_type": "stream",
          "text": [
            "Downloading train.csv to /content\n",
            "\r  0% 0.00/667k [00:00<?, ?B/s]\n",
            "100% 667k/667k [00:00<00:00, 43.9MB/s]\n",
            "Downloading sample_submission.csv to /content\n",
            "  0% 0.00/160k [00:00<?, ?B/s]\n",
            "100% 160k/160k [00:00<00:00, 51.4MB/s]\n",
            "Downloading test.zip to /content\n",
            "  0% 0.00/4.20M [00:00<?, ?B/s]\n",
            "100% 4.20M/4.20M [00:00<00:00, 69.0MB/s]\n",
            "Downloading train.zip to /content\n",
            " 47% 9.00M/19.2M [00:00<00:00, 22.9MB/s]\n",
            "100% 19.2M/19.2M [00:00<00:00, 43.3MB/s]\n"
          ],
          "name": "stdout"
        }
      ]
    },
    {
      "metadata": {
        "id": "1tmMoVrdj418",
        "colab_type": "code",
        "outputId": "a42c6e1e-64e8-45c4-8778-1b720dedbd66",
        "colab": {
          "base_uri": "https://localhost:8080/",
          "height": 34
        }
      },
      "cell_type": "code",
      "source": [
        "!ls"
      ],
      "execution_count": 0,
      "outputs": [
        {
          "output_type": "stream",
          "text": [
            "sample_data  sample_submission.csv  test.zip  train.csv  train.zip\n"
          ],
          "name": "stdout"
        }
      ]
    },
    {
      "metadata": {
        "id": "X_xfOTbWqGxx",
        "colab_type": "code",
        "outputId": "dbbbd6e2-ef1e-428a-b5c1-3dbbd5ddeb04",
        "colab": {
          "base_uri": "https://localhost:8080/",
          "height": 52
        }
      },
      "cell_type": "code",
      "source": [
        "!unzip -q  \\*.zip"
      ],
      "execution_count": 0,
      "outputs": [
        {
          "output_type": "stream",
          "text": [
            "\n",
            "2 archives were successfully processed.\n"
          ],
          "name": "stdout"
        }
      ]
    },
    {
      "metadata": {
        "id": "uVJJneB5K-uZ",
        "colab_type": "text"
      },
      "cell_type": "markdown",
      "source": [
        "##  II. Imports"
      ]
    },
    {
      "metadata": {
        "id": "u4BFthin5qQV",
        "colab_type": "code",
        "colab": {}
      },
      "cell_type": "code",
      "source": [
        "import numpy as np \n",
        "import pandas as pd \n",
        "import matplotlib.pyplot as plt \n",
        "# io related\n",
        "from skimage.io import imread\n",
        "from PIL import Image\n",
        "\n",
        "import os\n",
        "from glob import glob\n",
        "\n",
        "%matplotlib inline \n",
        "\n",
        "from sklearn.model_selection import train_test_split as tts"
      ],
      "execution_count": 0,
      "outputs": []
    },
    {
      "metadata": {
        "id": "CRndBzY862Rv",
        "colab_type": "code",
        "colab": {}
      },
      "cell_type": "code",
      "source": [
        "TRAIN_IMG_DIR = \"/content/train/\"\n",
        "BASE_IMAGE_DIR = '/content'"
      ],
      "execution_count": 0,
      "outputs": []
    },
    {
      "metadata": {
        "id": "7-C3ciKwiNdq",
        "colab_type": "text"
      },
      "cell_type": "markdown",
      "source": [
        "## III. Data"
      ]
    },
    {
      "metadata": {
        "id": "14tX30wL5yqo",
        "colab_type": "code",
        "outputId": "ae17d03d-0c11-4b4e-dc35-541e418ecf74",
        "colab": {
          "base_uri": "https://localhost:8080/",
          "height": 206
        }
      },
      "cell_type": "code",
      "source": [
        "full_train_ids_df = pd.read_csv(os.path.join(BASE_IMAGE_DIR, 'train.csv'))\n",
        "full_train_ids_df.head()"
      ],
      "execution_count": 0,
      "outputs": [
        {
          "output_type": "execute_result",
          "data": {
            "text/html": [
              "<div>\n",
              "<style scoped>\n",
              "    .dataframe tbody tr th:only-of-type {\n",
              "        vertical-align: middle;\n",
              "    }\n",
              "\n",
              "    .dataframe tbody tr th {\n",
              "        vertical-align: top;\n",
              "    }\n",
              "\n",
              "    .dataframe thead th {\n",
              "        text-align: right;\n",
              "    }\n",
              "</style>\n",
              "<table border=\"1\" class=\"dataframe\">\n",
              "  <thead>\n",
              "    <tr style=\"text-align: right;\">\n",
              "      <th></th>\n",
              "      <th>id</th>\n",
              "      <th>has_cactus</th>\n",
              "    </tr>\n",
              "  </thead>\n",
              "  <tbody>\n",
              "    <tr>\n",
              "      <th>0</th>\n",
              "      <td>0004be2cfeaba1c0361d39e2b000257b.jpg</td>\n",
              "      <td>1</td>\n",
              "    </tr>\n",
              "    <tr>\n",
              "      <th>1</th>\n",
              "      <td>000c8a36845c0208e833c79c1bffedd1.jpg</td>\n",
              "      <td>1</td>\n",
              "    </tr>\n",
              "    <tr>\n",
              "      <th>2</th>\n",
              "      <td>000d1e9a533f62e55c289303b072733d.jpg</td>\n",
              "      <td>1</td>\n",
              "    </tr>\n",
              "    <tr>\n",
              "      <th>3</th>\n",
              "      <td>0011485b40695e9138e92d0b3fb55128.jpg</td>\n",
              "      <td>1</td>\n",
              "    </tr>\n",
              "    <tr>\n",
              "      <th>4</th>\n",
              "      <td>0014d7a11e90b62848904c1418fc8cf2.jpg</td>\n",
              "      <td>1</td>\n",
              "    </tr>\n",
              "  </tbody>\n",
              "</table>\n",
              "</div>"
            ],
            "text/plain": [
              "                                     id  has_cactus\n",
              "0  0004be2cfeaba1c0361d39e2b000257b.jpg           1\n",
              "1  000c8a36845c0208e833c79c1bffedd1.jpg           1\n",
              "2  000d1e9a533f62e55c289303b072733d.jpg           1\n",
              "3  0011485b40695e9138e92d0b3fb55128.jpg           1\n",
              "4  0014d7a11e90b62848904c1418fc8cf2.jpg           1"
            ]
          },
          "metadata": {
            "tags": []
          },
          "execution_count": 16
        }
      ]
    },
    {
      "metadata": {
        "id": "RIcHi7rkJC3d",
        "colab_type": "code",
        "outputId": "0b2f53c6-2288-4104-a6e1-21b8427a44e9",
        "colab": {
          "base_uri": "https://localhost:8080/",
          "height": 52
        }
      },
      "cell_type": "code",
      "source": [
        "print('Total number of positive class images: {0} ({1:4.2f}%) ' \\\n",
        "      .format(full_train_ids_df['has_cactus'].sum(), \\\n",
        "              full_train_ids_df['has_cactus'].sum() / full_train_ids_df.shape[0]  ))\n",
        "print('Total number of images:', full_train_ids_df.shape[0])"
      ],
      "execution_count": 0,
      "outputs": [
        {
          "output_type": "stream",
          "text": [
            "Total number of positive class images: 13136 (0.75%) \n",
            "Total number of images: 17500\n"
          ],
          "name": "stdout"
        }
      ]
    },
    {
      "metadata": {
        "id": "OVFX8cKA1HGd",
        "colab_type": "text"
      },
      "cell_type": "markdown",
      "source": [
        "#### Display raw images "
      ]
    },
    {
      "metadata": {
        "id": "BUHJFocfRMfL",
        "colab_type": "code",
        "outputId": "bbfc2404-0247-422e-9ce1-e4f292398a0b",
        "colab": {
          "base_uri": "https://localhost:8080/",
          "height": 377
        }
      },
      "cell_type": "code",
      "source": [
        "# Plot a random set of images\n",
        "\n",
        "image_size = []\n",
        "train_imgs = os.listdir(TRAIN_IMG_DIR)\n",
        "\n",
        "fig, axes = plt.subplots(3,3, figsize=(6, 6))\n",
        "axes = axes.ravel()\n",
        "\n",
        "for idx, img in enumerate(np.random.choice(train_imgs, 9)):\n",
        "    ax = (axes[idx])\n",
        "    im = Image.open(TRAIN_IMG_DIR + img)\n",
        "    image_size.append(im.size)\n",
        "    ax.imshow(im)\n",
        "    ax.set_xticks([])\n",
        "    ax.set_yticks([])\n",
        "    ax.grid(False)\n",
        "    lab = full_train_ids_df.loc[full_train_ids_df['id'] == img, 'has_cactus'].values[0]\n",
        "    ax.set_title(f'Label: {lab}')\n",
        " "
      ],
      "execution_count": 0,
      "outputs": [
        {
          "output_type": "display_data",
          "data": {
            "image/png": "[encoded data removed]",
            "text/plain": [
              "<Figure size 432x432 with 9 Axes>"
            ]
          },
          "metadata": {
            "tags": []
          }
        }
      ]
    },
    {
      "metadata": {
        "id": "tzTexP3cXfRi",
        "colab_type": "text"
      },
      "cell_type": "markdown",
      "source": [
        "#### Image Size"
      ]
    },
    {
      "metadata": {
        "id": "-gKphuDSZoJo",
        "colab_type": "code",
        "outputId": "20cc8bce-ec86-4a85-ec3a-3bbb63457492",
        "colab": {
          "base_uri": "https://localhost:8080/",
          "height": 191
        }
      },
      "cell_type": "code",
      "source": [
        "print('The image sizes for a random selection of images is:', *image_size, sep='\\n')"
      ],
      "execution_count": 0,
      "outputs": [
        {
          "output_type": "stream",
          "text": [
            "The image sizes for a random selection of images is:\n",
            "(32, 32)\n",
            "(32, 32)\n",
            "(32, 32)\n",
            "(32, 32)\n",
            "(32, 32)\n",
            "(32, 32)\n",
            "(32, 32)\n",
            "(32, 32)\n",
            "(32, 32)\n"
          ],
          "name": "stdout"
        }
      ]
    },
    {
      "metadata": {
        "id": "BGip6bwLkVsE",
        "colab_type": "text"
      },
      "cell_type": "markdown",
      "source": [
        "The images are 32 x 32 pixels in size and are not easy to see clearly. This will  not be a problem for a deep learning algorithm.\n"
      ]
    },
    {
      "metadata": {
        "id": "QQ0l1kr8icLX",
        "colab_type": "text"
      },
      "cell_type": "markdown",
      "source": [
        "#### Training and validation data split"
      ]
    },
    {
      "metadata": {
        "id": "_pVKFIfLKAMj",
        "colab_type": "code",
        "outputId": "4416235e-7cb6-4293-9cf4-6eb9f181d662",
        "colab": {
          "base_uri": "https://localhost:8080/",
          "height": 52
        }
      },
      "cell_type": "code",
      "source": [
        "# Split the data  into train and validation sets \n",
        "# Note: the data generator can do this as well\n",
        "\n",
        "train_ids, valid_ids = tts(full_train_ids_df['id'], \n",
        "                                   test_size = 0.2, \n",
        "                                   random_state = 2019,\n",
        "                                   stratify = full_train_ids_df['has_cactus'])\n",
        "train_df = full_train_ids_df[full_train_ids_df['id'].isin(train_ids)]\n",
        "valid_df = full_train_ids_df[full_train_ids_df['id'].isin(valid_ids)]\n",
        "print('The training set has', train_df.shape[0], 'images.')\n",
        "print('The validation set has', valid_df.shape[0], 'images.')"
      ],
      "execution_count": 0,
      "outputs": [
        {
          "output_type": "stream",
          "text": [
            "The training set has 14000 images.\n",
            "The validation set has 3500 images.\n"
          ],
          "name": "stdout"
        }
      ]
    },
    {
      "metadata": {
        "id": "qA1vdQnUClLB",
        "colab_type": "code",
        "outputId": "24a6e754-9cef-4257-f0f6-1f122e269a3c",
        "colab": {
          "base_uri": "https://localhost:8080/",
          "height": 329
        }
      },
      "cell_type": "code",
      "source": [
        "# A plot of the training and validation set histograms \n",
        "# to visualize the 0/1 imbalance ratios after stratification\n",
        "\n",
        "fig=plt.figure(figsize=(9,4))\n",
        "\n",
        "plt.subplot(1, 2, 1)\n",
        "ax = plt.gca()\n",
        "train_df.hist(ax=ax)\n",
        "plt.title('Training set', fontsize=18)\n",
        "\n",
        "\n",
        "plt.subplot(1, 2, 2)\n",
        "ax = plt.gca()\n",
        "valid_df.hist( ax =ax);\n",
        "plt.title('Validation set', fontsize=16)\n",
        "\n",
        "fig.suptitle('Distribution of 0/1 labels', y=1.1, fontsize=18)\n",
        "plt.show();"
      ],
      "execution_count": 0,
      "outputs": [
        {
          "output_type": "display_data",
          "data": {
            "image/png": "[encoded data removed]",
            "text/plain": [
              "<Figure size 648x288 with 2 Axes>"
            ]
          },
          "metadata": {
            "tags": []
          }
        }
      ]
    },
    {
      "metadata": {
        "id": "TOVYUXbcoK7W",
        "colab_type": "text"
      },
      "cell_type": "markdown",
      "source": [
        "## IV. Training\n",
        "\n",
        "We set up our experiments within a transfer learning classification framework. The training has two stages: feature extraction and fine-tuning.\n",
        "\n",
        "#### Feature extraction\n",
        "\n",
        "We start with a base MobileNetV2 model pretrained with ImageNet  and freeze all but the final fully-connected layer.\n",
        "    The final layer is replaced with a binary classification layer thereby remapping ImageNet classes to the two aerial cactus identification classes. This functions as a fixed feature extractor for the  dataset.\n",
        " We train for 10 epochs. We use the RMSprop optimizer and the learning rate is set at $1 \\times 10^{-4}$ for each of the mini-batch runs. The weights are used to initialize the fine-tuning stage.\n",
        "\n",
        "#### Fine-tuning\n",
        "\n",
        "We unfreeze the last 55 layers of the MobileNetV2 model. We train for another 10 epochs using the RMSprop optimizer and a learning rate of $2 \\times 10^{-5}$. The number of iterations varies with the mini-batch size.\n",
        "\n",
        "#### Experiments\n",
        "\n",
        "We compare the accuracy and loss profile for the four mini-batch sizes: 16, 32, 64, 128. \n"
      ]
    },
    {
      "metadata": {
        "id": "ySwoh48whoRr",
        "colab_type": "text"
      },
      "cell_type": "markdown",
      "source": [
        "#### Hardware"
      ]
    },
    {
      "metadata": {
        "id": "UDd3v7b8ZKnR",
        "colab_type": "code",
        "outputId": "5f0c5b6d-49ed-44f0-8eb6-863d65783ebd",
        "colab": {
          "base_uri": "https://localhost:8080/",
          "height": 312
        }
      },
      "cell_type": "code",
      "source": [
        "!nvidia-smi"
      ],
      "execution_count": 0,
      "outputs": [
        {
          "output_type": "stream",
          "text": [
            "Tue Apr 23 22:50:51 2019       \n",
            "+-----------------------------------------------------------------------------+\n",
            "| NVIDIA-SMI 418.56       Driver Version: 410.79       CUDA Version: 10.0     |\n",
            "|-------------------------------+----------------------+----------------------+\n",
            "| GPU  Name        Persistence-M| Bus-Id        Disp.A | Volatile Uncorr. ECC |\n",
            "| Fan  Temp  Perf  Pwr:Usage/Cap|         Memory-Usage | GPU-Util  Compute M. |\n",
            "|===============================+======================+======================|\n",
            "|   0  Tesla T4            Off  | 00000000:00:04.0 Off |                    0 |\n",
            "| N/A   50C    P8    16W /  70W |      0MiB / 15079MiB |      0%      Default |\n",
            "+-------------------------------+----------------------+----------------------+\n",
            "                                                                               \n",
            "+-----------------------------------------------------------------------------+\n",
            "| Processes:                                                       GPU Memory |\n",
            "|  GPU       PID   Type   Process name                             Usage      |\n",
            "|=============================================================================|\n",
            "|  No running processes found                                                 |\n",
            "+-----------------------------------------------------------------------------+\n"
          ],
          "name": "stdout"
        }
      ]
    },
    {
      "metadata": {
        "id": "X4z6tFHVbzLB",
        "colab_type": "text"
      },
      "cell_type": "markdown",
      "source": [
        "We are using the NVIDIA Tesla T4 GPU."
      ]
    },
    {
      "metadata": {
        "id": "gq2H6DnOoTwN",
        "colab_type": "text"
      },
      "cell_type": "markdown",
      "source": [
        "#### Install TensorFlow 2.0"
      ]
    },
    {
      "metadata": {
        "id": "URwTGmkyDl8M",
        "colab_type": "code",
        "outputId": "0811a078-b14c-47a0-cebe-b3959ce96e30",
        "colab": {
          "base_uri": "https://localhost:8080/",
          "height": 86
        }
      },
      "cell_type": "code",
      "source": [
        "\n",
        "!pip install -q tensorflow-gpu==2.0.0-alpha0  # with gpu"
      ],
      "execution_count": 0,
      "outputs": [
        {
          "output_type": "stream",
          "text": [
            "\u001b[K    100% |████████████████████████████████| 332.1MB 46kB/s \n",
            "\u001b[K    100% |████████████████████████████████| 61kB 26.6MB/s \n",
            "\u001b[K    100% |████████████████████████████████| 3.0MB 9.0MB/s \n",
            "\u001b[K    100% |████████████████████████████████| 419kB 12.8MB/s \n",
            "\u001b[?25h"
          ],
          "name": "stdout"
        }
      ]
    },
    {
      "metadata": {
        "id": "ZspYy7UO1eU3",
        "colab_type": "code",
        "outputId": "5f7894e5-1ecf-4bb4-d64b-88c84cfbf0f8",
        "colab": {
          "base_uri": "https://localhost:8080/",
          "height": 52
        }
      },
      "cell_type": "code",
      "source": [
        "import tensorflow as tf\n",
        "from tensorflow import keras\n",
        "print(\"The TensorFlow version is \", tf.__version__)\n",
        "print(\"The Keras version is \", tf.keras.__version__)\n",
        "\n",
        "# flow from dataframe -- use the keras_preprocessing.image library\n",
        "from keras_preprocessing.image import ImageDataGenerator"
      ],
      "execution_count": 0,
      "outputs": [
        {
          "output_type": "stream",
          "text": [
            "The TensorFlow version is  2.0.0-alpha0\n",
            "The Keras version is  2.2.4-tf\n"
          ],
          "name": "stdout"
        }
      ]
    },
    {
      "metadata": {
        "id": "GsrCE2CoZKEt",
        "colab_type": "text"
      },
      "cell_type": "markdown",
      "source": [
        "### Feature Extraction\n",
        "\n",
        "#### Globals"
      ]
    },
    {
      "metadata": {
        "id": "q4dxavrAsuug",
        "colab_type": "code",
        "colab": {}
      },
      "cell_type": "code",
      "source": [
        "image_size = 96\n",
        "IM_WIDTH, IM_HEIGHT = image_size, image_size\n",
        "BATCH_SIZE = 64\n",
        "TL_EPOCHS = 10    # transfer learning epochs\n",
        "FT_EPOCHS = 10    # fine tuning epochs"
      ],
      "execution_count": 0,
      "outputs": []
    },
    {
      "metadata": {
        "id": "MzMbv67ek7iw",
        "colab_type": "text"
      },
      "cell_type": "markdown",
      "source": [
        "#### Base Model"
      ]
    },
    {
      "metadata": {
        "id": "BhD3QeNqoXes",
        "colab_type": "code",
        "outputId": "4038078a-ed26-4c0c-fbb6-c971a47fa817",
        "colab": {
          "base_uri": "https://localhost:8080/",
          "height": 72
        }
      },
      "cell_type": "code",
      "source": [
        "IMG_SHAPE = (IM_WIDTH, IM_HEIGHT, 3)\n",
        "\n",
        "# Create the base model from the pre-trained model MobileNet V2\n",
        "base_model = tf.keras.applications.MobileNetV2(input_shape=IMG_SHAPE,\n",
        "                                               include_top=False, \n",
        "                                               weights='imagenet')"
      ],
      "execution_count": 0,
      "outputs": [
        {
          "output_type": "stream",
          "text": [
            "Downloading data from https://github.com/JonathanCMitchell/mobilenet_v2_keras/releases/download/v1.1/mobilenet_v2_weights_tf_dim_ordering_tf_kernels_1.0_96_no_top.h5\n",
            "9412608/9406464 [==============================] - 0s 0us/step\n"
          ],
          "name": "stdout"
        }
      ]
    },
    {
      "metadata": {
        "id": "tD49waG9sOpJ",
        "colab_type": "code",
        "outputId": "529f655a-d352-4183-c1a8-10fd6704746f",
        "colab": {
          "base_uri": "https://localhost:8080/",
          "height": 5713
        }
      },
      "cell_type": "code",
      "source": [
        "base_model.trainable = False\n",
        "base_model.summary()\n"
      ],
      "execution_count": 0,
      "outputs": [
        {
          "output_type": "stream",
          "text": [
            "Model: \"mobilenetv2_1.00_96\"\n",
            "__________________________________________________________________________________________________\n",
            "Layer (type)                    Output Shape         Param #     Connected to                     \n",
            "==================================================================================================\n",
            "input_1 (InputLayer)            [(None, 96, 96, 3)]  0                                            \n",
            "__________________________________________________________________________________________________\n",
            "Conv1_pad (ZeroPadding2D)       (None, 97, 97, 3)    0           input_1[0][0]                    \n",
            "__________________________________________________________________________________________________\n",
            "Conv1 (Conv2D)                  (None, 48, 48, 32)   864         Conv1_pad[0][0]                  \n",
            "__________________________________________________________________________________________________\n",
            "bn_Conv1 (BatchNormalizationV1) (None, 48, 48, 32)   128         Conv1[0][0]                      \n",
            "__________________________________________________________________________________________________\n",
            "Conv1_relu (ReLU)               (None, 48, 48, 32)   0           bn_Conv1[0][0]                   \n",
            "__________________________________________________________________________________________________\n",
            "expanded_conv_depthwise (Depthw (None, 48, 48, 32)   288         Conv1_relu[0][0]                 \n",
            "__________________________________________________________________________________________________\n",
            "expanded_conv_depthwise_BN (Bat (None, 48, 48, 32)   128         expanded_conv_depthwise[0][0]    \n",
            "__________________________________________________________________________________________________\n",
            "expanded_conv_depthwise_relu (R (None, 48, 48, 32)   0           expanded_conv_depthwise_BN[0][0] \n",
            "__________________________________________________________________________________________________\n",
            "expanded_conv_project (Conv2D)  (None, 48, 48, 16)   512         expanded_conv_depthwise_relu[0][0\n",
            "__________________________________________________________________________________________________\n",
            "expanded_conv_project_BN (Batch (None, 48, 48, 16)   64          expanded_conv_project[0][0]      \n",
            "__________________________________________________________________________________________________\n",
            "block_1_expand (Conv2D)         (None, 48, 48, 96)   1536        expanded_conv_project_BN[0][0]   \n",
            "__________________________________________________________________________________________________\n",
            "block_1_expand_BN (BatchNormali (None, 48, 48, 96)   384         block_1_expand[0][0]             \n",
            "__________________________________________________________________________________________________\n",
            "block_1_expand_relu (ReLU)      (None, 48, 48, 96)   0           block_1_expand_BN[0][0]          \n",
            "__________________________________________________________________________________________________\n",
            "block_1_pad (ZeroPadding2D)     (None, 49, 49, 96)   0           block_1_expand_relu[0][0]        \n",
            "__________________________________________________________________________________________________\n",
            "block_1_depthwise (DepthwiseCon (None, 24, 24, 96)   864         block_1_pad[0][0]                \n",
            "__________________________________________________________________________________________________\n",
            "block_1_depthwise_BN (BatchNorm (None, 24, 24, 96)   384         block_1_depthwise[0][0]          \n",
            "__________________________________________________________________________________________________\n",
            "block_1_depthwise_relu (ReLU)   (None, 24, 24, 96)   0           block_1_depthwise_BN[0][0]       \n",
            "__________________________________________________________________________________________________\n",
            "block_1_project (Conv2D)        (None, 24, 24, 24)   2304        block_1_depthwise_relu[0][0]     \n",
            "__________________________________________________________________________________________________\n",
            "block_1_project_BN (BatchNormal (None, 24, 24, 24)   96          block_1_project[0][0]            \n",
            "__________________________________________________________________________________________________\n",
            "block_2_expand (Conv2D)         (None, 24, 24, 144)  3456        block_1_project_BN[0][0]         \n",
            "__________________________________________________________________________________________________\n",
            "block_2_expand_BN (BatchNormali (None, 24, 24, 144)  576         block_2_expand[0][0]             \n",
            "__________________________________________________________________________________________________\n",
            "block_2_expand_relu (ReLU)      (None, 24, 24, 144)  0           block_2_expand_BN[0][0]          \n",
            "__________________________________________________________________________________________________\n",
            "block_2_depthwise (DepthwiseCon (None, 24, 24, 144)  1296        block_2_expand_relu[0][0]        \n",
            "__________________________________________________________________________________________________\n",
            "block_2_depthwise_BN (BatchNorm (None, 24, 24, 144)  576         block_2_depthwise[0][0]          \n",
            "__________________________________________________________________________________________________\n",
            "block_2_depthwise_relu (ReLU)   (None, 24, 24, 144)  0           block_2_depthwise_BN[0][0]       \n",
            "__________________________________________________________________________________________________\n",
            "block_2_project (Conv2D)        (None, 24, 24, 24)   3456        block_2_depthwise_relu[0][0]     \n",
            "__________________________________________________________________________________________________\n",
            "block_2_project_BN (BatchNormal (None, 24, 24, 24)   96          block_2_project[0][0]            \n",
            "__________________________________________________________________________________________________\n",
            "block_2_add (Add)               (None, 24, 24, 24)   0           block_1_project_BN[0][0]         \n",
            "                                                                 block_2_project_BN[0][0]         \n",
            "__________________________________________________________________________________________________\n",
            "block_3_expand (Conv2D)         (None, 24, 24, 144)  3456        block_2_add[0][0]                \n",
            "__________________________________________________________________________________________________\n",
            "block_3_expand_BN (BatchNormali (None, 24, 24, 144)  576         block_3_expand[0][0]             \n",
            "__________________________________________________________________________________________________\n",
            "block_3_expand_relu (ReLU)      (None, 24, 24, 144)  0           block_3_expand_BN[0][0]          \n",
            "__________________________________________________________________________________________________\n",
            "block_3_pad (ZeroPadding2D)     (None, 25, 25, 144)  0           block_3_expand_relu[0][0]        \n",
            "__________________________________________________________________________________________________\n",
            "block_3_depthwise (DepthwiseCon (None, 12, 12, 144)  1296        block_3_pad[0][0]                \n",
            "__________________________________________________________________________________________________\n",
            "block_3_depthwise_BN (BatchNorm (None, 12, 12, 144)  576         block_3_depthwise[0][0]          \n",
            "__________________________________________________________________________________________________\n",
            "block_3_depthwise_relu (ReLU)   (None, 12, 12, 144)  0           block_3_depthwise_BN[0][0]       \n",
            "__________________________________________________________________________________________________\n",
            "block_3_project (Conv2D)        (None, 12, 12, 32)   4608        block_3_depthwise_relu[0][0]     \n",
            "__________________________________________________________________________________________________\n",
            "block_3_project_BN (BatchNormal (None, 12, 12, 32)   128         block_3_project[0][0]            \n",
            "__________________________________________________________________________________________________\n",
            "block_4_expand (Conv2D)         (None, 12, 12, 192)  6144        block_3_project_BN[0][0]         \n",
            "__________________________________________________________________________________________________\n",
            "block_4_expand_BN (BatchNormali (None, 12, 12, 192)  768         block_4_expand[0][0]             \n",
            "__________________________________________________________________________________________________\n",
            "block_4_expand_relu (ReLU)      (None, 12, 12, 192)  0           block_4_expand_BN[0][0]          \n",
            "__________________________________________________________________________________________________\n",
            "block_4_depthwise (DepthwiseCon (None, 12, 12, 192)  1728        block_4_expand_relu[0][0]        \n",
            "__________________________________________________________________________________________________\n",
            "block_4_depthwise_BN (BatchNorm (None, 12, 12, 192)  768         block_4_depthwise[0][0]          \n",
            "__________________________________________________________________________________________________\n",
            "block_4_depthwise_relu (ReLU)   (None, 12, 12, 192)  0           block_4_depthwise_BN[0][0]       \n",
            "__________________________________________________________________________________________________\n",
            "block_4_project (Conv2D)        (None, 12, 12, 32)   6144        block_4_depthwise_relu[0][0]     \n",
            "__________________________________________________________________________________________________\n",
            "block_4_project_BN (BatchNormal (None, 12, 12, 32)   128         block_4_project[0][0]            \n",
            "__________________________________________________________________________________________________\n",
            "block_4_add (Add)               (None, 12, 12, 32)   0           block_3_project_BN[0][0]         \n",
            "                                                                 block_4_project_BN[0][0]         \n",
            "__________________________________________________________________________________________________\n",
            "block_5_expand (Conv2D)         (None, 12, 12, 192)  6144        block_4_add[0][0]                \n",
            "__________________________________________________________________________________________________\n",
            "block_5_expand_BN (BatchNormali (None, 12, 12, 192)  768         block_5_expand[0][0]             \n",
            "__________________________________________________________________________________________________\n",
            "block_5_expand_relu (ReLU)      (None, 12, 12, 192)  0           block_5_expand_BN[0][0]          \n",
            "__________________________________________________________________________________________________\n",
            "block_5_depthwise (DepthwiseCon (None, 12, 12, 192)  1728        block_5_expand_relu[0][0]        \n",
            "__________________________________________________________________________________________________\n",
            "block_5_depthwise_BN (BatchNorm (None, 12, 12, 192)  768         block_5_depthwise[0][0]          \n",
            "__________________________________________________________________________________________________\n",
            "block_5_depthwise_relu (ReLU)   (None, 12, 12, 192)  0           block_5_depthwise_BN[0][0]       \n",
            "__________________________________________________________________________________________________\n",
            "block_5_project (Conv2D)        (None, 12, 12, 32)   6144        block_5_depthwise_relu[0][0]     \n",
            "__________________________________________________________________________________________________\n",
            "block_5_project_BN (BatchNormal (None, 12, 12, 32)   128         block_5_project[0][0]            \n",
            "__________________________________________________________________________________________________\n",
            "block_5_add (Add)               (None, 12, 12, 32)   0           block_4_add[0][0]                \n",
            "                                                                 block_5_project_BN[0][0]         \n",
            "__________________________________________________________________________________________________\n",
            "block_6_expand (Conv2D)         (None, 12, 12, 192)  6144        block_5_add[0][0]                \n",
            "__________________________________________________________________________________________________\n",
            "block_6_expand_BN (BatchNormali (None, 12, 12, 192)  768         block_6_expand[0][0]             \n",
            "__________________________________________________________________________________________________\n",
            "block_6_expand_relu (ReLU)      (None, 12, 12, 192)  0           block_6_expand_BN[0][0]          \n",
            "__________________________________________________________________________________________________\n",
            "block_6_pad (ZeroPadding2D)     (None, 13, 13, 192)  0           block_6_expand_relu[0][0]        \n",
            "__________________________________________________________________________________________________\n",
            "block_6_depthwise (DepthwiseCon (None, 6, 6, 192)    1728        block_6_pad[0][0]                \n",
            "__________________________________________________________________________________________________\n",
            "block_6_depthwise_BN (BatchNorm (None, 6, 6, 192)    768         block_6_depthwise[0][0]          \n",
            "__________________________________________________________________________________________________\n",
            "block_6_depthwise_relu (ReLU)   (None, 6, 6, 192)    0           block_6_depthwise_BN[0][0]       \n",
            "__________________________________________________________________________________________________\n",
            "block_6_project (Conv2D)        (None, 6, 6, 64)     12288       block_6_depthwise_relu[0][0]     \n",
            "__________________________________________________________________________________________________\n",
            "block_6_project_BN (BatchNormal (None, 6, 6, 64)     256         block_6_project[0][0]            \n",
            "__________________________________________________________________________________________________\n",
            "block_7_expand (Conv2D)         (None, 6, 6, 384)    24576       block_6_project_BN[0][0]         \n",
            "__________________________________________________________________________________________________\n",
            "block_7_expand_BN (BatchNormali (None, 6, 6, 384)    1536        block_7_expand[0][0]             \n",
            "__________________________________________________________________________________________________\n",
            "block_7_expand_relu (ReLU)      (None, 6, 6, 384)    0           block_7_expand_BN[0][0]          \n",
            "__________________________________________________________________________________________________\n",
            "block_7_depthwise (DepthwiseCon (None, 6, 6, 384)    3456        block_7_expand_relu[0][0]        \n",
            "__________________________________________________________________________________________________\n",
            "block_7_depthwise_BN (BatchNorm (None, 6, 6, 384)    1536        block_7_depthwise[0][0]          \n",
            "__________________________________________________________________________________________________\n",
            "block_7_depthwise_relu (ReLU)   (None, 6, 6, 384)    0           block_7_depthwise_BN[0][0]       \n",
            "__________________________________________________________________________________________________\n",
            "block_7_project (Conv2D)        (None, 6, 6, 64)     24576       block_7_depthwise_relu[0][0]     \n",
            "__________________________________________________________________________________________________\n",
            "block_7_project_BN (BatchNormal (None, 6, 6, 64)     256         block_7_project[0][0]            \n",
            "__________________________________________________________________________________________________\n",
            "block_7_add (Add)               (None, 6, 6, 64)     0           block_6_project_BN[0][0]         \n",
            "                                                                 block_7_project_BN[0][0]         \n",
            "__________________________________________________________________________________________________\n",
            "block_8_expand (Conv2D)         (None, 6, 6, 384)    24576       block_7_add[0][0]                \n",
            "__________________________________________________________________________________________________\n",
            "block_8_expand_BN (BatchNormali (None, 6, 6, 384)    1536        block_8_expand[0][0]             \n",
            "__________________________________________________________________________________________________\n",
            "block_8_expand_relu (ReLU)      (None, 6, 6, 384)    0           block_8_expand_BN[0][0]          \n",
            "__________________________________________________________________________________________________\n",
            "block_8_depthwise (DepthwiseCon (None, 6, 6, 384)    3456        block_8_expand_relu[0][0]        \n",
            "__________________________________________________________________________________________________\n",
            "block_8_depthwise_BN (BatchNorm (None, 6, 6, 384)    1536        block_8_depthwise[0][0]          \n",
            "__________________________________________________________________________________________________\n",
            "block_8_depthwise_relu (ReLU)   (None, 6, 6, 384)    0           block_8_depthwise_BN[0][0]       \n",
            "__________________________________________________________________________________________________\n",
            "block_8_project (Conv2D)        (None, 6, 6, 64)     24576       block_8_depthwise_relu[0][0]     \n",
            "__________________________________________________________________________________________________\n",
            "block_8_project_BN (BatchNormal (None, 6, 6, 64)     256         block_8_project[0][0]            \n",
            "__________________________________________________________________________________________________\n",
            "block_8_add (Add)               (None, 6, 6, 64)     0           block_7_add[0][0]                \n",
            "                                                                 block_8_project_BN[0][0]         \n",
            "__________________________________________________________________________________________________\n",
            "block_9_expand (Conv2D)         (None, 6, 6, 384)    24576       block_8_add[0][0]                \n",
            "__________________________________________________________________________________________________\n",
            "block_9_expand_BN (BatchNormali (None, 6, 6, 384)    1536        block_9_expand[0][0]             \n",
            "__________________________________________________________________________________________________\n",
            "block_9_expand_relu (ReLU)      (None, 6, 6, 384)    0           block_9_expand_BN[0][0]          \n",
            "__________________________________________________________________________________________________\n",
            "block_9_depthwise (DepthwiseCon (None, 6, 6, 384)    3456        block_9_expand_relu[0][0]        \n",
            "__________________________________________________________________________________________________\n",
            "block_9_depthwise_BN (BatchNorm (None, 6, 6, 384)    1536        block_9_depthwise[0][0]          \n",
            "__________________________________________________________________________________________________\n",
            "block_9_depthwise_relu (ReLU)   (None, 6, 6, 384)    0           block_9_depthwise_BN[0][0]       \n",
            "__________________________________________________________________________________________________\n",
            "block_9_project (Conv2D)        (None, 6, 6, 64)     24576       block_9_depthwise_relu[0][0]     \n",
            "__________________________________________________________________________________________________\n",
            "block_9_project_BN (BatchNormal (None, 6, 6, 64)     256         block_9_project[0][0]            \n",
            "__________________________________________________________________________________________________\n",
            "block_9_add (Add)               (None, 6, 6, 64)     0           block_8_add[0][0]                \n",
            "                                                                 block_9_project_BN[0][0]         \n",
            "__________________________________________________________________________________________________\n",
            "block_10_expand (Conv2D)        (None, 6, 6, 384)    24576       block_9_add[0][0]                \n",
            "__________________________________________________________________________________________________\n",
            "block_10_expand_BN (BatchNormal (None, 6, 6, 384)    1536        block_10_expand[0][0]            \n",
            "__________________________________________________________________________________________________\n",
            "block_10_expand_relu (ReLU)     (None, 6, 6, 384)    0           block_10_expand_BN[0][0]         \n",
            "__________________________________________________________________________________________________\n",
            "block_10_depthwise (DepthwiseCo (None, 6, 6, 384)    3456        block_10_expand_relu[0][0]       \n",
            "__________________________________________________________________________________________________\n",
            "block_10_depthwise_BN (BatchNor (None, 6, 6, 384)    1536        block_10_depthwise[0][0]         \n",
            "__________________________________________________________________________________________________\n",
            "block_10_depthwise_relu (ReLU)  (None, 6, 6, 384)    0           block_10_depthwise_BN[0][0]      \n",
            "__________________________________________________________________________________________________\n",
            "block_10_project (Conv2D)       (None, 6, 6, 96)     36864       block_10_depthwise_relu[0][0]    \n",
            "__________________________________________________________________________________________________\n",
            "block_10_project_BN (BatchNorma (None, 6, 6, 96)     384         block_10_project[0][0]           \n",
            "__________________________________________________________________________________________________\n",
            "block_11_expand (Conv2D)        (None, 6, 6, 576)    55296       block_10_project_BN[0][0]        \n",
            "__________________________________________________________________________________________________\n",
            "block_11_expand_BN (BatchNormal (None, 6, 6, 576)    2304        block_11_expand[0][0]            \n",
            "__________________________________________________________________________________________________\n",
            "block_11_expand_relu (ReLU)     (None, 6, 6, 576)    0           block_11_expand_BN[0][0]         \n",
            "__________________________________________________________________________________________________\n",
            "block_11_depthwise (DepthwiseCo (None, 6, 6, 576)    5184        block_11_expand_relu[0][0]       \n",
            "__________________________________________________________________________________________________\n",
            "block_11_depthwise_BN (BatchNor (None, 6, 6, 576)    2304        block_11_depthwise[0][0]         \n",
            "__________________________________________________________________________________________________\n",
            "block_11_depthwise_relu (ReLU)  (None, 6, 6, 576)    0           block_11_depthwise_BN[0][0]      \n",
            "__________________________________________________________________________________________________\n",
            "block_11_project (Conv2D)       (None, 6, 6, 96)     55296       block_11_depthwise_relu[0][0]    \n",
            "__________________________________________________________________________________________________\n",
            "block_11_project_BN (BatchNorma (None, 6, 6, 96)     384         block_11_project[0][0]           \n",
            "__________________________________________________________________________________________________\n",
            "block_11_add (Add)              (None, 6, 6, 96)     0           block_10_project_BN[0][0]        \n",
            "                                                                 block_11_project_BN[0][0]        \n",
            "__________________________________________________________________________________________________\n",
            "block_12_expand (Conv2D)        (None, 6, 6, 576)    55296       block_11_add[0][0]               \n",
            "__________________________________________________________________________________________________\n",
            "block_12_expand_BN (BatchNormal (None, 6, 6, 576)    2304        block_12_expand[0][0]            \n",
            "__________________________________________________________________________________________________\n",
            "block_12_expand_relu (ReLU)     (None, 6, 6, 576)    0           block_12_expand_BN[0][0]         \n",
            "__________________________________________________________________________________________________\n",
            "block_12_depthwise (DepthwiseCo (None, 6, 6, 576)    5184        block_12_expand_relu[0][0]       \n",
            "__________________________________________________________________________________________________\n",
            "block_12_depthwise_BN (BatchNor (None, 6, 6, 576)    2304        block_12_depthwise[0][0]         \n",
            "__________________________________________________________________________________________________\n",
            "block_12_depthwise_relu (ReLU)  (None, 6, 6, 576)    0           block_12_depthwise_BN[0][0]      \n",
            "__________________________________________________________________________________________________\n",
            "block_12_project (Conv2D)       (None, 6, 6, 96)     55296       block_12_depthwise_relu[0][0]    \n",
            "__________________________________________________________________________________________________\n",
            "block_12_project_BN (BatchNorma (None, 6, 6, 96)     384         block_12_project[0][0]           \n",
            "__________________________________________________________________________________________________\n",
            "block_12_add (Add)              (None, 6, 6, 96)     0           block_11_add[0][0]               \n",
            "                                                                 block_12_project_BN[0][0]        \n",
            "__________________________________________________________________________________________________\n",
            "block_13_expand (Conv2D)        (None, 6, 6, 576)    55296       block_12_add[0][0]               \n",
            "__________________________________________________________________________________________________\n",
            "block_13_expand_BN (BatchNormal (None, 6, 6, 576)    2304        block_13_expand[0][0]            \n",
            "__________________________________________________________________________________________________\n",
            "block_13_expand_relu (ReLU)     (None, 6, 6, 576)    0           block_13_expand_BN[0][0]         \n",
            "__________________________________________________________________________________________________\n",
            "block_13_pad (ZeroPadding2D)    (None, 7, 7, 576)    0           block_13_expand_relu[0][0]       \n",
            "__________________________________________________________________________________________________\n",
            "block_13_depthwise (DepthwiseCo (None, 3, 3, 576)    5184        block_13_pad[0][0]               \n",
            "__________________________________________________________________________________________________\n",
            "block_13_depthwise_BN (BatchNor (None, 3, 3, 576)    2304        block_13_depthwise[0][0]         \n",
            "__________________________________________________________________________________________________\n",
            "block_13_depthwise_relu (ReLU)  (None, 3, 3, 576)    0           block_13_depthwise_BN[0][0]      \n",
            "__________________________________________________________________________________________________\n",
            "block_13_project (Conv2D)       (None, 3, 3, 160)    92160       block_13_depthwise_relu[0][0]    \n",
            "__________________________________________________________________________________________________\n",
            "block_13_project_BN (BatchNorma (None, 3, 3, 160)    640         block_13_project[0][0]           \n",
            "__________________________________________________________________________________________________\n",
            "block_14_expand (Conv2D)        (None, 3, 3, 960)    153600      block_13_project_BN[0][0]        \n",
            "__________________________________________________________________________________________________\n",
            "block_14_expand_BN (BatchNormal (None, 3, 3, 960)    3840        block_14_expand[0][0]            \n",
            "__________________________________________________________________________________________________\n",
            "block_14_expand_relu (ReLU)     (None, 3, 3, 960)    0           block_14_expand_BN[0][0]         \n",
            "__________________________________________________________________________________________________\n",
            "block_14_depthwise (DepthwiseCo (None, 3, 3, 960)    8640        block_14_expand_relu[0][0]       \n",
            "__________________________________________________________________________________________________\n",
            "block_14_depthwise_BN (BatchNor (None, 3, 3, 960)    3840        block_14_depthwise[0][0]         \n",
            "__________________________________________________________________________________________________\n",
            "block_14_depthwise_relu (ReLU)  (None, 3, 3, 960)    0           block_14_depthwise_BN[0][0]      \n",
            "__________________________________________________________________________________________________\n",
            "block_14_project (Conv2D)       (None, 3, 3, 160)    153600      block_14_depthwise_relu[0][0]    \n",
            "__________________________________________________________________________________________________\n",
            "block_14_project_BN (BatchNorma (None, 3, 3, 160)    640         block_14_project[0][0]           \n",
            "__________________________________________________________________________________________________\n",
            "block_14_add (Add)              (None, 3, 3, 160)    0           block_13_project_BN[0][0]        \n",
            "                                                                 block_14_project_BN[0][0]        \n",
            "__________________________________________________________________________________________________\n",
            "block_15_expand (Conv2D)        (None, 3, 3, 960)    153600      block_14_add[0][0]               \n",
            "__________________________________________________________________________________________________\n",
            "block_15_expand_BN (BatchNormal (None, 3, 3, 960)    3840        block_15_expand[0][0]            \n",
            "__________________________________________________________________________________________________\n",
            "block_15_expand_relu (ReLU)     (None, 3, 3, 960)    0           block_15_expand_BN[0][0]         \n",
            "__________________________________________________________________________________________________\n",
            "block_15_depthwise (DepthwiseCo (None, 3, 3, 960)    8640        block_15_expand_relu[0][0]       \n",
            "__________________________________________________________________________________________________\n",
            "block_15_depthwise_BN (BatchNor (None, 3, 3, 960)    3840        block_15_depthwise[0][0]         \n",
            "__________________________________________________________________________________________________\n",
            "block_15_depthwise_relu (ReLU)  (None, 3, 3, 960)    0           block_15_depthwise_BN[0][0]      \n",
            "__________________________________________________________________________________________________\n",
            "block_15_project (Conv2D)       (None, 3, 3, 160)    153600      block_15_depthwise_relu[0][0]    \n",
            "__________________________________________________________________________________________________\n",
            "block_15_project_BN (BatchNorma (None, 3, 3, 160)    640         block_15_project[0][0]           \n",
            "__________________________________________________________________________________________________\n",
            "block_15_add (Add)              (None, 3, 3, 160)    0           block_14_add[0][0]               \n",
            "                                                                 block_15_project_BN[0][0]        \n",
            "__________________________________________________________________________________________________\n",
            "block_16_expand (Conv2D)        (None, 3, 3, 960)    153600      block_15_add[0][0]               \n",
            "__________________________________________________________________________________________________\n",
            "block_16_expand_BN (BatchNormal (None, 3, 3, 960)    3840        block_16_expand[0][0]            \n",
            "__________________________________________________________________________________________________\n",
            "block_16_expand_relu (ReLU)     (None, 3, 3, 960)    0           block_16_expand_BN[0][0]         \n",
            "__________________________________________________________________________________________________\n",
            "block_16_depthwise (DepthwiseCo (None, 3, 3, 960)    8640        block_16_expand_relu[0][0]       \n",
            "__________________________________________________________________________________________________\n",
            "block_16_depthwise_BN (BatchNor (None, 3, 3, 960)    3840        block_16_depthwise[0][0]         \n",
            "__________________________________________________________________________________________________\n",
            "block_16_depthwise_relu (ReLU)  (None, 3, 3, 960)    0           block_16_depthwise_BN[0][0]      \n",
            "__________________________________________________________________________________________________\n",
            "block_16_project (Conv2D)       (None, 3, 3, 320)    307200      block_16_depthwise_relu[0][0]    \n",
            "__________________________________________________________________________________________________\n",
            "block_16_project_BN (BatchNorma (None, 3, 3, 320)    1280        block_16_project[0][0]           \n",
            "__________________________________________________________________________________________________\n",
            "Conv_1 (Conv2D)                 (None, 3, 3, 1280)   409600      block_16_project_BN[0][0]        \n",
            "__________________________________________________________________________________________________\n",
            "Conv_1_bn (BatchNormalizationV1 (None, 3, 3, 1280)   5120        Conv_1[0][0]                     \n",
            "__________________________________________________________________________________________________\n",
            "out_relu (ReLU)                 (None, 3, 3, 1280)   0           Conv_1_bn[0][0]                  \n",
            "==================================================================================================\n",
            "Total params: 2,257,984\n",
            "Trainable params: 0\n",
            "Non-trainable params: 2,257,984\n",
            "__________________________________________________________________________________________________\n"
          ],
          "name": "stdout"
        }
      ]
    },
    {
      "metadata": {
        "id": "ySIadULdkz8k",
        "colab_type": "text"
      },
      "cell_type": "markdown",
      "source": [
        "#### Top Model"
      ]
    },
    {
      "metadata": {
        "id": "LqjMgVFtsaeR",
        "colab_type": "code",
        "colab": {}
      },
      "cell_type": "code",
      "source": [
        "model = tf.keras.Sequential([\n",
        "  base_model,\n",
        "  keras.layers.GlobalAveragePooling2D(),\n",
        "  keras.layers.Dense(1, activation='sigmoid')\n",
        "])\n"
      ],
      "execution_count": 0,
      "outputs": []
    },
    {
      "metadata": {
        "id": "m4_nZn72sa2l",
        "colab_type": "code",
        "colab": {}
      },
      "cell_type": "code",
      "source": [
        "model.compile(optimizer=tf.keras.optimizers.RMSprop(lr=0.0001), \n",
        "              loss='binary_crossentropy', \n",
        "              metrics=['accuracy'])\n"
      ],
      "execution_count": 0,
      "outputs": []
    },
    {
      "metadata": {
        "id": "z7WXeez0sbdG",
        "colab_type": "code",
        "outputId": "941bdec4-bdf0-4dce-9256-30997d998279",
        "colab": {
          "base_uri": "https://localhost:8080/",
          "height": 260
        }
      },
      "cell_type": "code",
      "source": [
        "model.summary()\n"
      ],
      "execution_count": 0,
      "outputs": [
        {
          "output_type": "stream",
          "text": [
            "Model: \"sequential\"\n",
            "_________________________________________________________________\n",
            "Layer (type)                 Output Shape              Param #   \n",
            "=================================================================\n",
            "mobilenetv2_1.00_96 (Model)  (None, 3, 3, 1280)        2257984   \n",
            "_________________________________________________________________\n",
            "global_average_pooling2d (Gl (None, 1280)              0         \n",
            "_________________________________________________________________\n",
            "dense (Dense)                (None, 1)                 1281      \n",
            "=================================================================\n",
            "Total params: 2,259,265\n",
            "Trainable params: 1,281\n",
            "Non-trainable params: 2,257,984\n",
            "_________________________________________________________________\n"
          ],
          "name": "stdout"
        }
      ]
    },
    {
      "metadata": {
        "id": "RxubVQTxbrA9",
        "colab_type": "code",
        "colab": {}
      },
      "cell_type": "code",
      "source": [
        "#train_df.has_cactus = train_df.has_cactus.astype(str)\n",
        "#valid_df.has_cactus = valid_df.has_cactus.astype(str)\n",
        "\n",
        "train_df = train_df.applymap(str)\n",
        "valid_df = valid_df.applymap(str)"
      ],
      "execution_count": 0,
      "outputs": []
    },
    {
      "metadata": {
        "id": "bGIv-jBj397W",
        "colab_type": "text"
      },
      "cell_type": "markdown",
      "source": [
        "#### Data Generator \n",
        "\n",
        "Using the new `flow_from_dataframe` method because of the directory structure where both classes are present in the same directory."
      ]
    },
    {
      "metadata": {
        "id": "RQxfRnCbsvP6",
        "colab_type": "code",
        "outputId": "5e432741-75a2-4ed0-b62e-760b6fc5c342",
        "colab": {
          "base_uri": "https://localhost:8080/",
          "height": 52
        }
      },
      "cell_type": "code",
      "source": [
        "datagen=ImageDataGenerator(rescale=1./255)\n",
        "train_generator=datagen.flow_from_dataframe(dataframe=train_df, \n",
        "                                            directory=TRAIN_IMG_DIR, \n",
        "                                            x_col=\"id\", \n",
        "                                            y_col=\"has_cactus\", \n",
        "                                            class_mode=\"binary\",\n",
        "                                            target_size=(IM_WIDTH, IM_HEIGHT),\n",
        "                                            batch_size=BATCH_SIZE)\n",
        "\n",
        "valid_generator=datagen.flow_from_dataframe(dataframe=valid_df, \n",
        "                                            directory=TRAIN_IMG_DIR, \n",
        "                                            x_col=\"id\", \n",
        "                                            y_col=\"has_cactus\", \n",
        "                                            class_mode=\"binary\",\n",
        "                                            shuffle= False,\n",
        "                                            target_size=(IM_WIDTH, IM_HEIGHT),\n",
        "                                            batch_size=BATCH_SIZE)"
      ],
      "execution_count": 0,
      "outputs": [
        {
          "output_type": "stream",
          "text": [
            "Found 14000 images belonging to 2 classes.\n",
            "Found 3500 images belonging to 2 classes.\n"
          ],
          "name": "stdout"
        }
      ]
    },
    {
      "metadata": {
        "id": "yblC_9Gzs_Hh",
        "colab_type": "code",
        "outputId": "39b79a68-8dfc-4895-a1b2-4ca2721ead6f",
        "colab": {
          "base_uri": "https://localhost:8080/",
          "height": 364
        }
      },
      "cell_type": "code",
      "source": [
        "steps_per_epoch = train_generator.n // BATCH_SIZE\n",
        "validation_steps = valid_generator.n // BATCH_SIZE\n",
        "\n",
        "history = model.fit_generator(train_generator, \n",
        "                              steps_per_epoch = steps_per_epoch,\n",
        "                              epochs=TL_EPOCHS, \n",
        "                              workers=4,\n",
        "                              validation_data=valid_generator, \n",
        "                              validation_steps=validation_steps)"
      ],
      "execution_count": 0,
      "outputs": [
        {
          "output_type": "stream",
          "text": [
            "Epoch 1/10\n",
            "218/218 [==============================] - 24s 109ms/step - loss: 0.4616 - accuracy: 0.7800 - val_loss: 1.0162 - val_accuracy: 0.3819\n",
            "Epoch 2/10\n",
            "218/218 [==============================] - 16s 73ms/step - loss: 0.2148 - accuracy: 0.9170 - val_loss: 0.9207 - val_accuracy: 0.5292\n",
            "Epoch 3/10\n",
            "218/218 [==============================] - 19s 88ms/step - loss: 0.1557 - accuracy: 0.9412 - val_loss: 0.8676 - val_accuracy: 0.6068\n",
            "Epoch 4/10\n",
            "218/218 [==============================] - 16s 73ms/step - loss: 0.1323 - accuracy: 0.9501 - val_loss: 0.7837 - val_accuracy: 0.6644\n",
            "Epoch 5/10\n",
            "218/218 [==============================] - 16s 74ms/step - loss: 0.1131 - accuracy: 0.9585 - val_loss: 0.7138 - val_accuracy: 0.6982\n",
            "Epoch 6/10\n",
            "218/218 [==============================] - 17s 78ms/step - loss: 0.1017 - accuracy: 0.9609 - val_loss: 0.6522 - val_accuracy: 0.7350\n",
            "Epoch 7/10\n",
            "218/218 [==============================] - 16s 74ms/step - loss: 0.0969 - accuracy: 0.9642 - val_loss: 0.5589 - val_accuracy: 0.7734\n",
            "Epoch 8/10\n",
            "218/218 [==============================] - 17s 78ms/step - loss: 0.0934 - accuracy: 0.9660 - val_loss: 0.4919 - val_accuracy: 0.7969\n",
            "Epoch 9/10\n",
            "218/218 [==============================] - 16s 72ms/step - loss: 0.0877 - accuracy: 0.9684 - val_loss: 0.4146 - val_accuracy: 0.8302\n",
            "Epoch 10/10\n",
            "218/218 [==============================] - 16s 73ms/step - loss: 0.0816 - accuracy: 0.9688 - val_loss: 0.4254 - val_accuracy: 0.8290\n"
          ],
          "name": "stdout"
        }
      ]
    },
    {
      "metadata": {
        "id": "8y92FdlPs_dw",
        "colab_type": "code",
        "outputId": "dda014cf-1c61-4374-a24b-4ebb9729b68c",
        "colab": {
          "base_uri": "https://localhost:8080/",
          "height": 499
        }
      },
      "cell_type": "code",
      "source": [
        "# plot training and validation performance\n",
        "\n",
        "acc = history.history['accuracy']\n",
        "val_acc = history.history['val_accuracy']\n",
        "\n",
        "loss = history.history['loss']\n",
        "val_loss = history.history['val_loss']\n",
        "\n",
        "plt.figure(figsize=(8, 8))\n",
        "plt.subplot(2, 1, 1)\n",
        "plt.plot(acc, label='Training Accuracy')\n",
        "plt.plot(val_acc, label='Validation Accuracy')\n",
        "plt.legend(loc='lower right')\n",
        "plt.ylabel('Accuracy')\n",
        "plt.ylim([min(plt.ylim()),1])\n",
        "plt.title('Training and Validation Accuracy')\n",
        "\n",
        "plt.subplot(2, 1, 2)\n",
        "plt.plot(loss, label='Training Loss')\n",
        "plt.plot(val_loss, label='Validation Loss')\n",
        "plt.legend(loc='upper right')\n",
        "plt.ylabel('Cross Entropy')\n",
        "plt.ylim([0,max(plt.ylim())])\n",
        "plt.title('Training and Validation Loss')\n",
        "plt.show()\n"
      ],
      "execution_count": 0,
      "outputs": [
        {
          "output_type": "display_data",
          "data": {
            "image/png": "[encoded data removed]",
            "text/plain": [
              "<Figure size 576x576 with 2 Axes>"
            ]
          },
          "metadata": {
            "tags": []
          }
        }
      ]
    },
    {
      "metadata": {
        "id": "zKyqRs_jn5J4",
        "colab_type": "text"
      },
      "cell_type": "markdown",
      "source": [
        "### Fine Tuning"
      ]
    },
    {
      "metadata": {
        "id": "v9Jn-PrgVQAv",
        "colab_type": "code",
        "colab": {}
      },
      "cell_type": "code",
      "source": [
        "base_model.trainable = True"
      ],
      "execution_count": 0,
      "outputs": []
    },
    {
      "metadata": {
        "id": "XyCh58-6V5vY",
        "colab_type": "code",
        "outputId": "c364048c-70a2-4680-91c3-1a14d0512126",
        "colab": {
          "base_uri": "https://localhost:8080/",
          "height": 34
        }
      },
      "cell_type": "code",
      "source": [
        "# Number of layers in the base model\n",
        "print(\"Number of layers in the base model: \", len(base_model.layers))\n",
        "\n",
        "# Fine tune from this layer onwards\n",
        "fine_tune_at = 100\n",
        "\n",
        "# Freeze all the layers before the `fine_tune_at` layer\n",
        "for layer in base_model.layers[:fine_tune_at]:\n",
        "  layer.trainable =  False"
      ],
      "execution_count": 0,
      "outputs": [
        {
          "output_type": "stream",
          "text": [
            "Number of layers in the base model:  155\n"
          ],
          "name": "stdout"
        }
      ]
    },
    {
      "metadata": {
        "id": "nqjuBRE7V_TE",
        "colab_type": "code",
        "colab": {}
      },
      "cell_type": "code",
      "source": [
        "model.compile(loss='binary_crossentropy',\n",
        "              optimizer = tf.keras.optimizers.RMSprop(lr=2e-5),\n",
        "              metrics=['accuracy'])"
      ],
      "execution_count": 0,
      "outputs": []
    },
    {
      "metadata": {
        "id": "wWVXclULWDSs",
        "colab_type": "code",
        "outputId": "439d436a-c779-49f8-95cd-a7fee1bb3363",
        "colab": {
          "base_uri": "https://localhost:8080/",
          "height": 260
        }
      },
      "cell_type": "code",
      "source": [
        "model.summary()"
      ],
      "execution_count": 0,
      "outputs": [
        {
          "output_type": "stream",
          "text": [
            "Model: \"sequential\"\n",
            "_________________________________________________________________\n",
            "Layer (type)                 Output Shape              Param #   \n",
            "=================================================================\n",
            "mobilenetv2_1.00_96 (Model)  (None, 3, 3, 1280)        2257984   \n",
            "_________________________________________________________________\n",
            "global_average_pooling2d (Gl (None, 1280)              0         \n",
            "_________________________________________________________________\n",
            "dense (Dense)                (None, 1)                 1281      \n",
            "=================================================================\n",
            "Total params: 2,259,265\n",
            "Trainable params: 1,863,873\n",
            "Non-trainable params: 395,392\n",
            "_________________________________________________________________\n"
          ],
          "name": "stdout"
        }
      ]
    },
    {
      "metadata": {
        "id": "pGwRzbLC2gT-",
        "colab_type": "text"
      },
      "cell_type": "markdown",
      "source": [
        "#### Image Augmentation/Data Generator"
      ]
    },
    {
      "metadata": {
        "id": "YIFGItrBtO3r",
        "colab_type": "code",
        "outputId": "f2971a17-26e5-4291-ea3c-feaa3e0ba912",
        "colab": {
          "base_uri": "https://localhost:8080/",
          "height": 52
        }
      },
      "cell_type": "code",
      "source": [
        "train_datagen=ImageDataGenerator(rescale=1./255,\n",
        "                                 rotation_range=15,\n",
        "                                 width_shift_range=0.1,\n",
        "                                 height_shift_range=0.1,\n",
        "                                 shear_range=0.1,\n",
        "                                 zoom_range=[0.9, 1.25],\n",
        "                                 horizontal_flip=True,\n",
        "                                 vertical_flip=False,\n",
        "                                 fill_mode='nearest')\n",
        "\n",
        "test_datagen=ImageDataGenerator(rescale=1./255)\n",
        "\n",
        "\n",
        "\n",
        "train_generator=train_datagen.flow_from_dataframe(dataframe=train_df, \n",
        "                                            directory=TRAIN_IMG_DIR, \n",
        "                                            x_col=\"id\", \n",
        "                                            y_col=\"has_cactus\", \n",
        "                                            class_mode=\"binary\",\n",
        "                                            target_size=(IM_WIDTH, IM_HEIGHT),\n",
        "                                            batch_size=BATCH_SIZE)\n",
        "\n",
        "valid_generator=test_datagen.flow_from_dataframe(dataframe=valid_df, \n",
        "                                            directory=TRAIN_IMG_DIR, \n",
        "                                            x_col=\"id\", \n",
        "                                            y_col=\"has_cactus\", \n",
        "                                            class_mode=\"binary\",\n",
        "                                            shuffle= False,\n",
        "                                            target_size=(IM_WIDTH, IM_HEIGHT),\n",
        "                                            batch_size=BATCH_SIZE)"
      ],
      "execution_count": 0,
      "outputs": [
        {
          "output_type": "stream",
          "text": [
            "Found 14000 images belonging to 2 classes.\n",
            "Found 3500 images belonging to 2 classes.\n"
          ],
          "name": "stdout"
        }
      ]
    },
    {
      "metadata": {
        "id": "83xjFL6PWRCX",
        "colab_type": "code",
        "outputId": "9e36b5ce-693c-4cc2-a562-03b256af893b",
        "colab": {
          "base_uri": "https://localhost:8080/",
          "height": 364
        }
      },
      "cell_type": "code",
      "source": [
        "history_FT = model.fit_generator(train_generator, \n",
        "                                   steps_per_epoch = steps_per_epoch,\n",
        "                                   epochs=FT_EPOCHS, \n",
        "                                   workers=4,\n",
        "                                   validation_data=valid_generator, \n",
        "                                   validation_steps=validation_steps)"
      ],
      "execution_count": 0,
      "outputs": [
        {
          "output_type": "stream",
          "text": [
            "Epoch 1/10\n",
            "218/218 [==============================] - 50s 231ms/step - loss: 0.0911 - accuracy: 0.9651 - val_loss: 0.4202 - val_accuracy: 0.8600\n",
            "Epoch 2/10\n",
            "218/218 [==============================] - 38s 175ms/step - loss: 0.0571 - accuracy: 0.9797 - val_loss: 0.5783 - val_accuracy: 0.8275\n",
            "Epoch 3/10\n",
            "218/218 [==============================] - 38s 175ms/step - loss: 0.0513 - accuracy: 0.9808 - val_loss: 0.5072 - val_accuracy: 0.8614\n",
            "Epoch 4/10\n",
            "218/218 [==============================] - 39s 178ms/step - loss: 0.0425 - accuracy: 0.9842 - val_loss: 0.5507 - val_accuracy: 0.8536\n",
            "Epoch 5/10\n",
            "218/218 [==============================] - 37s 171ms/step - loss: 0.0387 - accuracy: 0.9859 - val_loss: 0.3881 - val_accuracy: 0.8895\n",
            "Epoch 6/10\n",
            "218/218 [==============================] - 38s 175ms/step - loss: 0.0333 - accuracy: 0.9880 - val_loss: 0.3915 - val_accuracy: 0.8941\n",
            "Epoch 7/10\n",
            "218/218 [==============================] - 39s 178ms/step - loss: 0.0313 - accuracy: 0.9878 - val_loss: 0.3993 - val_accuracy: 0.8929\n",
            "Epoch 8/10\n",
            "218/218 [==============================] - 38s 176ms/step - loss: 0.0277 - accuracy: 0.9898 - val_loss: 0.4607 - val_accuracy: 0.8805\n",
            "Epoch 9/10\n",
            "218/218 [==============================] - 38s 175ms/step - loss: 0.0280 - accuracy: 0.9903 - val_loss: 0.4781 - val_accuracy: 0.8851\n",
            "Epoch 10/10\n",
            "218/218 [==============================] - 37s 172ms/step - loss: 0.0215 - accuracy: 0.9912 - val_loss: 0.5098 - val_accuracy: 0.8776\n"
          ],
          "name": "stdout"
        }
      ]
    },
    {
      "metadata": {
        "id": "9LDYOrgzsWfo",
        "colab_type": "code",
        "colab": {}
      },
      "cell_type": "code",
      "source": [
        "acc += history_FT.history['accuracy']\n",
        "val_acc += history_FT.history['val_accuracy']\n",
        "\n",
        "loss += history_FT.history['loss']\n",
        "val_loss += history_FT.history['val_loss']"
      ],
      "execution_count": 0,
      "outputs": []
    },
    {
      "metadata": {
        "id": "_yjFp9s2bxWb",
        "colab_type": "code",
        "outputId": "0c7e0c81-b900-48d5-87ab-e6b10d1baa9b",
        "colab": {
          "base_uri": "https://localhost:8080/",
          "height": 513
        }
      },
      "cell_type": "code",
      "source": [
        "#TL_EPOCHS = 10\n",
        "\n",
        "plt.figure(figsize=(8, 8))\n",
        "plt.subplot(2, 1, 1)\n",
        "plt.plot(acc, label='Training Accuracy')\n",
        "plt.plot(val_acc, label='Validation Accuracy')\n",
        "plt.ylim([0.4, 1])\n",
        "plt.plot([TL_EPOCHS-1, TL_EPOCHS-1], \n",
        "          plt.ylim(), label='Start Fine Tuning')\n",
        "plt.legend(loc='lower right')\n",
        "plt.title('Training and Validation Accuracy')\n",
        "\n",
        "plt.subplot(2, 1, 2)\n",
        "plt.plot(loss, label='Training Loss')\n",
        "plt.plot(val_loss, label='Validation Loss')\n",
        "plt.ylim([0, 1.3])\n",
        "plt.plot([TL_EPOCHS-1, TL_EPOCHS-1], \n",
        "         plt.ylim(), label='Start Fine Tuning')\n",
        "plt.legend(loc='upper right')\n",
        "plt.title('Training and Validation Loss')\n",
        "plt.xlabel('epoch')\n",
        "plt.show()"
      ],
      "execution_count": 0,
      "outputs": [
        {
          "output_type": "display_data",
          "data": {
            "image/png": "[encoded data removed]",
            "text/plain": [
              "<Figure size 576x576 with 2 Axes>"
            ]
          },
          "metadata": {
            "tags": []
          }
        }
      ]
    },
    {
      "metadata": {
        "id": "89HG7Idujdsc",
        "colab_type": "text"
      },
      "cell_type": "markdown",
      "source": [
        "We  see the generalization gap when the batch size is 64. Similar plots are generated for batch sizes 16, 32 and 128."
      ]
    },
    {
      "metadata": {
        "id": "nDLE6qe1Xx1Y",
        "colab_type": "text"
      },
      "cell_type": "markdown",
      "source": [
        "## V. References and Further Reading\n",
        "\n",
        "<a name=\"ref1\"></a>[1] [Sandler, M., et al. \"Inverted Residuals and Linear Bottlenecks: Mobile Networks for Classification, Detection and Segmentation.\" arXiv preprint arXiv:1801.04381 (2018).](http://arxiv.org/abs/1801.04381)\n",
        "\n",
        "<a name=\"ref2\"></a>[2] [Sandler, M. , Howard, A. \"MobileNetV2: The Next Generation of On-Device Computer Vision Networks \" Google AI Blog (blog). April 3, 2018](https://ai.googleblog.com/2018/04/mobilenetv2-next-generation-of-on.html)"
      ]
    },
    {
      "metadata": {
        "id": "bWnxxBMsoXnD",
        "colab_type": "text"
      },
      "cell_type": "markdown",
      "source": [
        "**Author:  Meena Mani  \n",
        "Email:   meenas.mailbag@gmail.com   \n",
        "Twitter: @meena_uvaca  **  "
      ]
    }
  ]
}